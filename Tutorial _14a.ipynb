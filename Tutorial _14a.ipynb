{
 "cells": [
  {
   "cell_type": "code",
   "execution_count": 2,
   "id": "4eb14272",
   "metadata": {},
   "outputs": [],
   "source": [
    "import numpy as np\n",
    "from tensorflow.keras.preprocessing.text import Tokenizer\n",
    "from tensorflow.keras.preprocessing.sequence import pad_sequences\n",
    "from tensorflow.keras.models import Sequential\n",
    "from tensorflow.keras.layers import Embedding, SimpleRNN, Dense, Dropout, TimeDistributed\n",
    "from sklearn.preprocessing import LabelEncoder"
   ]
  },
  {
   "cell_type": "code",
   "execution_count": 3,
   "id": "6bbe5b8e",
   "metadata": {},
   "outputs": [],
   "source": [
    "#Sample data\n",
    "sentences = [\n",
    "    \"Barack Obama was born in Hawai\",\n",
    "    \"Google is based in Mountain View\"\n",
    "]\n",
    "\n",
    "labels = [\n",
    "    [\"PERSON\", \"PERSON\", \"O\", \"O\", \"O\", \"LOCATION\"], \n",
    "    [\"ORGANIZATION\", \"O\", \"O\", \"O\", \"LOCATION\", \"O\"]\n",
    "    \n",
    "]\n",
    "\n",
    "#TOKENIZING\n",
    "tokenizer = Tokenizer(lower=True)\n",
    "tokenizer.fit_on_texts(sentences)\n",
    "X = tokenizer.texts_to_sequences(sentences)\n",
    "\n",
    "#PADDING\n",
    "X = pad_sequences(X, padding='post')\n",
    "\n",
    "#LABEL ENCODING\n",
    "label_encoder = LabelEncoder()\n",
    "label_encoder.fit([\"O\", \"PERSON\", \"LOCATION\", \"ORGANIZATION\"])\n",
    "\n",
    "#Convert labels to NUMERICAL VALUES\n",
    "Y = [label_encoder.transform(label) for label in labels]\n",
    "\n",
    "#PADDING LABELS so that they match the input shape\n",
    "y = pad_sequences(Y, padding='post', maxlen=X.shape[1])\n",
    "\n",
    "#reshaping y to match the shape of the input sequences\n",
    "y = np.expand_dims(y, -1)"
   ]
  },
  {
   "cell_type": "code",
   "execution_count": 4,
   "id": "44a0b052",
   "metadata": {},
   "outputs": [
    {
     "name": "stderr",
     "output_type": "stream",
     "text": [
      "c:\\Users\\Ayat\\AppData\\Local\\Programs\\Python\\Python313\\Lib\\site-packages\\keras\\src\\layers\\core\\embedding.py:97: UserWarning: Argument `input_length` is deprecated. Just remove it.\n",
      "  warnings.warn(\n"
     ]
    }
   ],
   "source": [
    "#model definition\n",
    "model = Sequential()\n",
    "\n",
    "#Embedding layer: convert word indices to dense vectors\n",
    "model.add(Embedding(input_dim = len(tokenizer.word_index) + 1, output_dim =50, input_length=X.shape[1]))\n",
    "\n",
    "#RNN layer\n",
    "model.add(SimpleRNN(units=50, return_sequences=True))\n",
    "\n",
    "# Dropout layer to avoid overfitting\n",
    "model.add(Dropout(0.1))\n",
    "\n",
    "# TimeDistributed Dense layer for making predictions at each time step\n",
    "model.add(TimeDistributed(Dense(len(label_encoder.classes_),activation='softmax')))\n",
    "\n",
    "#Compile the model\n",
    "model.compile(optimizer='adam', loss='sparse_categorical_crossentropy', metrics=['accuracy'])"
   ]
  },
  {
   "cell_type": "code",
   "execution_count": 7,
   "id": "a432a05b",
   "metadata": {},
   "outputs": [
    {
     "name": "stdout",
     "output_type": "stream",
     "text": [
      "Epoch 1/10\n",
      "\u001b[1m1/1\u001b[0m \u001b[32m━━━━━━━━━━━━━━━━━━━━\u001b[0m\u001b[37m\u001b[0m \u001b[1m0s\u001b[0m 58ms/step - accuracy: 0.6667 - loss: 1.3262\n",
      "Epoch 2/10\n",
      "\u001b[1m1/1\u001b[0m \u001b[32m━━━━━━━━━━━━━━━━━━━━\u001b[0m\u001b[37m\u001b[0m \u001b[1m0s\u001b[0m 62ms/step - accuracy: 0.6667 - loss: 1.3090\n",
      "Epoch 3/10\n",
      "\u001b[1m1/1\u001b[0m \u001b[32m━━━━━━━━━━━━━━━━━━━━\u001b[0m\u001b[37m\u001b[0m \u001b[1m0s\u001b[0m 55ms/step - accuracy: 0.6667 - loss: 1.2736\n",
      "Epoch 4/10\n",
      "\u001b[1m1/1\u001b[0m \u001b[32m━━━━━━━━━━━━━━━━━━━━\u001b[0m\u001b[37m\u001b[0m \u001b[1m0s\u001b[0m 53ms/step - accuracy: 0.8333 - loss: 1.2338\n",
      "Epoch 5/10\n",
      "\u001b[1m1/1\u001b[0m \u001b[32m━━━━━━━━━━━━━━━━━━━━\u001b[0m\u001b[37m\u001b[0m \u001b[1m0s\u001b[0m 121ms/step - accuracy: 0.9167 - loss: 1.1894\n",
      "Epoch 6/10\n",
      "\u001b[1m1/1\u001b[0m \u001b[32m━━━━━━━━━━━━━━━━━━━━\u001b[0m\u001b[37m\u001b[0m \u001b[1m0s\u001b[0m 73ms/step - accuracy: 0.9167 - loss: 1.1667\n",
      "Epoch 7/10\n",
      "\u001b[1m1/1\u001b[0m \u001b[32m━━━━━━━━━━━━━━━━━━━━\u001b[0m\u001b[37m\u001b[0m \u001b[1m0s\u001b[0m 70ms/step - accuracy: 0.8333 - loss: 1.1281\n",
      "Epoch 8/10\n",
      "\u001b[1m1/1\u001b[0m \u001b[32m━━━━━━━━━━━━━━━━━━━━\u001b[0m\u001b[37m\u001b[0m \u001b[1m0s\u001b[0m 74ms/step - accuracy: 0.8333 - loss: 1.0959\n",
      "Epoch 9/10\n",
      "\u001b[1m1/1\u001b[0m \u001b[32m━━━━━━━━━━━━━━━━━━━━\u001b[0m\u001b[37m\u001b[0m \u001b[1m0s\u001b[0m 83ms/step - accuracy: 0.9167 - loss: 1.0333\n",
      "Epoch 10/10\n",
      "\u001b[1m1/1\u001b[0m \u001b[32m━━━━━━━━━━━━━━━━━━━━\u001b[0m\u001b[37m\u001b[0m \u001b[1m0s\u001b[0m 75ms/step - accuracy: 0.9167 - loss: 1.0198\n"
     ]
    },
    {
     "data": {
      "text/plain": [
       "<keras.src.callbacks.history.History at 0x1a9d8b52850>"
      ]
     },
     "execution_count": 7,
     "metadata": {},
     "output_type": "execute_result"
    }
   ],
   "source": [
    "# train the model\n",
    "model.fit(np.array(X), np.array(y), epochs=10, batch_size=2)"
   ]
  },
  {
   "cell_type": "code",
   "execution_count": 6,
   "id": "e8df0c3a",
   "metadata": {},
   "outputs": [
    {
     "name": "stdout",
     "output_type": "stream",
     "text": [
      "\u001b[1m1/1\u001b[0m \u001b[32m━━━━━━━━━━━━━━━━━━━━\u001b[0m\u001b[37m\u001b[0m \u001b[1m0s\u001b[0m 493ms/step\n",
      "Word: Barack, Predicted NER Label: ORGANIZATION\n",
      "Word: Obama, Predicted NER Label: LOCATION\n",
      "Word: went, Predicted NER Label: PERSON\n",
      "Word: to, Predicted NER Label: ORGANIZATION\n",
      "Word: Hawai, Predicted NER Label: ORGANIZATION\n"
     ]
    }
   ],
   "source": [
    "#test with a sentence\n",
    "test_sentence = [\"Barack Obama went to Hawai\"]\n",
    "test_sequence = tokenizer.texts_to_sequences(test_sentence)\n",
    "test_sequence = pad_sequences(test_sequence, padding='post', maxlen=X.shape[1])\n",
    "\n",
    "#practise the ner labels\n",
    "predictions = model.predict(test_sequence)\n",
    "\n",
    "#decode predictions\n",
    "decoded_predictions = label_encoder.inverse_transform(np.argmax(predictions, axis=-1)[0])\n",
    "\n",
    "#display results\n",
    "for word, label in zip(test_sentence[0].split(), decoded_predictions):\n",
    "    print(f\"Word: {word}, Predicted NER Label: {label}\")"
   ]
  }
 ],
 "metadata": {
  "kernelspec": {
   "display_name": "Python 3",
   "language": "python",
   "name": "python3"
  },
  "language_info": {
   "codemirror_mode": {
    "name": "ipython",
    "version": 3
   },
   "file_extension": ".py",
   "mimetype": "text/x-python",
   "name": "python",
   "nbconvert_exporter": "python",
   "pygments_lexer": "ipython3",
   "version": "3.13.7"
  }
 },
 "nbformat": 4,
 "nbformat_minor": 5
}
